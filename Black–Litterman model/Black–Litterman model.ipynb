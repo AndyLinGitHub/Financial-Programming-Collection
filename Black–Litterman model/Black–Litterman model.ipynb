{
 "cells": [
  {
   "cell_type": "code",
   "execution_count": 1,
   "metadata": {},
   "outputs": [],
   "source": [
    "import pandas as pd\n",
    "import numpy as np\n",
    "import matplotlib.pyplot as plt\n",
    "from numpy import linalg as LA\n",
    "from sklearn.decomposition import PCA as sklearnPCA\n",
    "import seaborn as sns\n",
    "import IPython \n",
    "import glob\n",
    "import yfinance as yf\n",
    "from scipy.optimize import minimize\n",
    "import datetime\n",
    "import scipy.optimize as sco\n",
    "from scipy import stats\n",
    "\n",
    "plt.style.use('ggplot')\n",
    "IPython.get_ipython().enable_matplotlib(gui='qt') # 圖片輸出於新視窗\n",
    "pd.set_option('display.max_rows', 500)\n",
    "pd.set_option('display.max_columns', 500)\n",
    "pd.set_option('display.width', 1000)"
   ]
  },
  {
   "cell_type": "code",
   "execution_count": 2,
   "metadata": {},
   "outputs": [],
   "source": [
    "def calc_portfolio_std(weights, mean_returns, cov): #計算投資組合Volatility\n",
    "    portfolio_std = np.sqrt(np.dot(weights.T, np.dot(cov, weights))) * np.sqrt(252)\n",
    "    return portfolio_std\n",
    "\n",
    "constraints = ({'type': 'eq', 'fun': lambda x: np.sum(x) - 1})\n",
    "def min_variance(mean_returns, cov): #計算有最低Volatility的投資組合\n",
    "    num_assets = len(mean_returns)\n",
    "    args = (mean_returns, cov)\n",
    "    constraints = ({'type': 'eq', 'fun': lambda x: np.sum(x) - 1})\n",
    "    bound = (0.0,1.0)\n",
    "    bounds = tuple(bound for asset in range(num_assets))\n",
    "    result = sco.minimize(calc_portfolio_std, num_assets*[1./num_assets,], args=args,\n",
    "                        method='SLSQP', bounds=bounds, constraints=constraints)\n",
    "    return result"
   ]
  },
  {
   "cell_type": "code",
   "execution_count": 3,
   "metadata": {},
   "outputs": [],
   "source": [
    "#下載歷史資料函數\n",
    "def stock_adjclose(Tickers, start_y = 1900, start_m = 1, start_d = 1, end_y = 2040, end_m = 12, end_d = 31):\n",
    "    start = datetime.datetime(start_y, start_m, start_d).strftime(\"%Y-%m-%d\")\n",
    "    end = datetime.datetime(end_y, end_m, end_d).strftime(\"%Y-%m-%d\")\n",
    "    data = yf.download(Tickers, start, end)\n",
    "    data = data[['Adj Close', 'Volume']]\n",
    "    data = data.round(decimals=2) \n",
    "    return data\n"
   ]
  },
  {
   "cell_type": "code",
   "execution_count": 4,
   "metadata": {},
   "outputs": [
    {
     "name": "stdout",
     "output_type": "stream",
     "text": [
      "[*********************100%***********************]  1 of 1 completed\n"
     ]
    }
   ],
   "source": [
    "#下載VIX歷史資料並計算指標\n",
    "VIX = stock_adjclose(\"^VIX\", 2005, 1, 2, 2020, 6, 1)[\"Adj Close\"]\n",
    "VIX_90Q = VIX.rolling(120).quantile(0.9).ffill()\n",
    "VIX_10Q = VIX.rolling(120).quantile(0.1).ffill()\n",
    "VIQ90 = (VIX > VIX_90Q) & (VIX.shift(1) < VIX_90Q.shift(1))\n",
    "VIQ10 = (VIX < VIX_10Q) & (VIX.shift(1) > VIX_10Q.shift(1))\n",
    "VIW90 = (VIX < VIX_90Q) & (VIX.shift(1) > VIX_90Q.shift(1)) "
   ]
  },
  {
   "cell_type": "code",
   "execution_count": 5,
   "metadata": {},
   "outputs": [],
   "source": [
    "#股票ETF Tickers\n",
    "Tickers = [\"RWR\", \"XLB\",\"XLI\",\"XLY\",\"XLP\",\"XLE\",\"XLF\",\"XLU\",\"XLV\",\"XLK\",\"IYT\",'VTV','VOE','VBR','VEA','VWO', \"FXI\",\"EWH\",\"EWJ\",\"EWY\",\"EWS\",\"EWT\"]"
   ]
  },
  {
   "cell_type": "code",
   "execution_count": 6,
   "metadata": {},
   "outputs": [
    {
     "name": "stdout",
     "output_type": "stream",
     "text": [
      "[*********************100%***********************]  22 of 22 completed\n",
      "[*********************100%***********************]  1 of 1 completed\n"
     ]
    }
   ],
   "source": [
    "#下載資產池歷史資料\n",
    "data = stock_adjclose(Tickers, 2005, 1, 2, 2020, 6, 1)\n",
    "df = data[\"Adj Close\"]\n",
    "TLT = stock_adjclose(\"TLT\", 2005, 1, 2, 2020, 6, 1)"
   ]
  },
  {
   "cell_type": "code",
   "execution_count": 7,
   "metadata": {},
   "outputs": [],
   "source": [
    "#計算日報酬率\n",
    "df_R = df.pct_change().dropna()"
   ]
  },
  {
   "cell_type": "code",
   "execution_count": 8,
   "metadata": {},
   "outputs": [],
   "source": [
    "#計算相對高度\n",
    "df_L = df.rolling(window = 120).min()\n",
    "df_H = df.rolling(window = 120).max()\n",
    "df_CH = (df - df_L)/(df_H - df_L)"
   ]
  },
  {
   "cell_type": "code",
   "execution_count": 9,
   "metadata": {},
   "outputs": [],
   "source": [
    "#將報酬率乘上根號ADV(Average Daily Transaction Volume)\n",
    "data_R_MVW = (df_R.shift(1)).mul(np.sqrt(data[\"Volume\"]*data[\"Adj Close\"])).dropna()"
   ]
  },
  {
   "cell_type": "code",
   "execution_count": 10,
   "metadata": {},
   "outputs": [
    {
     "data": {
      "text/html": [
       "<div>\n",
       "<style scoped>\n",
       "    .dataframe tbody tr th:only-of-type {\n",
       "        vertical-align: middle;\n",
       "    }\n",
       "\n",
       "    .dataframe tbody tr th {\n",
       "        vertical-align: top;\n",
       "    }\n",
       "\n",
       "    .dataframe thead th {\n",
       "        text-align: right;\n",
       "    }\n",
       "</style>\n",
       "<table border=\"1\" class=\"dataframe\">\n",
       "  <thead>\n",
       "    <tr style=\"text-align: right;\">\n",
       "      <th></th>\n",
       "      <th>EWH</th>\n",
       "      <th>EWJ</th>\n",
       "      <th>EWS</th>\n",
       "      <th>EWT</th>\n",
       "      <th>EWY</th>\n",
       "      <th>FXI</th>\n",
       "      <th>IYT</th>\n",
       "      <th>RWR</th>\n",
       "      <th>VBR</th>\n",
       "      <th>VEA</th>\n",
       "      <th>VOE</th>\n",
       "      <th>VTV</th>\n",
       "      <th>VWO</th>\n",
       "      <th>XLB</th>\n",
       "      <th>XLE</th>\n",
       "      <th>XLF</th>\n",
       "      <th>XLI</th>\n",
       "      <th>XLK</th>\n",
       "      <th>XLP</th>\n",
       "      <th>XLU</th>\n",
       "      <th>XLV</th>\n",
       "      <th>XLY</th>\n",
       "    </tr>\n",
       "  </thead>\n",
       "  <tbody>\n",
       "    <tr>\n",
       "      <th>0</th>\n",
       "      <td>0.250000</td>\n",
       "      <td>0.250000</td>\n",
       "      <td>0.250000</td>\n",
       "      <td>0.250000</td>\n",
       "      <td>0.250000</td>\n",
       "      <td>0.250000</td>\n",
       "      <td>0.250000</td>\n",
       "      <td>0.250000</td>\n",
       "      <td>0.250000</td>\n",
       "      <td>0.250000</td>\n",
       "      <td>0.250000</td>\n",
       "      <td>0.250000</td>\n",
       "      <td>0.250000</td>\n",
       "      <td>0.250000</td>\n",
       "      <td>0.250000</td>\n",
       "      <td>0.250000</td>\n",
       "      <td>0.250000</td>\n",
       "      <td>0.250000</td>\n",
       "      <td>0.250000</td>\n",
       "      <td>0.250000</td>\n",
       "      <td>0.250000</td>\n",
       "      <td>0.250000</td>\n",
       "    </tr>\n",
       "    <tr>\n",
       "      <th>1</th>\n",
       "      <td>0.250696</td>\n",
       "      <td>0.250696</td>\n",
       "      <td>0.250696</td>\n",
       "      <td>0.250696</td>\n",
       "      <td>0.250696</td>\n",
       "      <td>0.250696</td>\n",
       "      <td>0.250696</td>\n",
       "      <td>0.250696</td>\n",
       "      <td>0.250696</td>\n",
       "      <td>0.250696</td>\n",
       "      <td>0.250696</td>\n",
       "      <td>0.250696</td>\n",
       "      <td>0.250696</td>\n",
       "      <td>0.250696</td>\n",
       "      <td>0.250696</td>\n",
       "      <td>0.250696</td>\n",
       "      <td>0.250696</td>\n",
       "      <td>0.250696</td>\n",
       "      <td>0.250696</td>\n",
       "      <td>0.250696</td>\n",
       "      <td>0.250696</td>\n",
       "      <td>0.250696</td>\n",
       "    </tr>\n",
       "    <tr>\n",
       "      <th>2</th>\n",
       "      <td>0.251393</td>\n",
       "      <td>0.251393</td>\n",
       "      <td>0.251393</td>\n",
       "      <td>0.251393</td>\n",
       "      <td>0.251393</td>\n",
       "      <td>0.251393</td>\n",
       "      <td>0.251393</td>\n",
       "      <td>0.251393</td>\n",
       "      <td>0.251393</td>\n",
       "      <td>0.251393</td>\n",
       "      <td>0.251393</td>\n",
       "      <td>0.251393</td>\n",
       "      <td>0.251393</td>\n",
       "      <td>0.251393</td>\n",
       "      <td>0.251393</td>\n",
       "      <td>0.251393</td>\n",
       "      <td>0.251393</td>\n",
       "      <td>0.251393</td>\n",
       "      <td>0.251393</td>\n",
       "      <td>0.251393</td>\n",
       "      <td>0.251393</td>\n",
       "      <td>0.251393</td>\n",
       "    </tr>\n",
       "    <tr>\n",
       "      <th>3</th>\n",
       "      <td>0.252092</td>\n",
       "      <td>0.252092</td>\n",
       "      <td>0.252092</td>\n",
       "      <td>0.252092</td>\n",
       "      <td>0.252092</td>\n",
       "      <td>0.252092</td>\n",
       "      <td>0.252092</td>\n",
       "      <td>0.252092</td>\n",
       "      <td>0.252092</td>\n",
       "      <td>0.252092</td>\n",
       "      <td>0.252092</td>\n",
       "      <td>0.252092</td>\n",
       "      <td>0.252092</td>\n",
       "      <td>0.252092</td>\n",
       "      <td>0.252092</td>\n",
       "      <td>0.252092</td>\n",
       "      <td>0.252092</td>\n",
       "      <td>0.252092</td>\n",
       "      <td>0.252092</td>\n",
       "      <td>0.252092</td>\n",
       "      <td>0.252092</td>\n",
       "      <td>0.252092</td>\n",
       "    </tr>\n",
       "    <tr>\n",
       "      <th>4</th>\n",
       "      <td>0.252794</td>\n",
       "      <td>0.252794</td>\n",
       "      <td>0.252794</td>\n",
       "      <td>0.252794</td>\n",
       "      <td>0.252794</td>\n",
       "      <td>0.252794</td>\n",
       "      <td>0.252794</td>\n",
       "      <td>0.252794</td>\n",
       "      <td>0.252794</td>\n",
       "      <td>0.252794</td>\n",
       "      <td>0.252794</td>\n",
       "      <td>0.252794</td>\n",
       "      <td>0.252794</td>\n",
       "      <td>0.252794</td>\n",
       "      <td>0.252794</td>\n",
       "      <td>0.252794</td>\n",
       "      <td>0.252794</td>\n",
       "      <td>0.252794</td>\n",
       "      <td>0.252794</td>\n",
       "      <td>0.252794</td>\n",
       "      <td>0.252794</td>\n",
       "      <td>0.252794</td>\n",
       "    </tr>\n",
       "  </tbody>\n",
       "</table>\n",
       "</div>"
      ],
      "text/plain": [
       "        EWH       EWJ       EWS       EWT       EWY       FXI       IYT       RWR       VBR       VEA       VOE       VTV       VWO       XLB       XLE       XLF       XLI       XLK       XLP       XLU       XLV       XLY\n",
       "0  0.250000  0.250000  0.250000  0.250000  0.250000  0.250000  0.250000  0.250000  0.250000  0.250000  0.250000  0.250000  0.250000  0.250000  0.250000  0.250000  0.250000  0.250000  0.250000  0.250000  0.250000  0.250000\n",
       "1  0.250696  0.250696  0.250696  0.250696  0.250696  0.250696  0.250696  0.250696  0.250696  0.250696  0.250696  0.250696  0.250696  0.250696  0.250696  0.250696  0.250696  0.250696  0.250696  0.250696  0.250696  0.250696\n",
       "2  0.251393  0.251393  0.251393  0.251393  0.251393  0.251393  0.251393  0.251393  0.251393  0.251393  0.251393  0.251393  0.251393  0.251393  0.251393  0.251393  0.251393  0.251393  0.251393  0.251393  0.251393  0.251393\n",
       "3  0.252092  0.252092  0.252092  0.252092  0.252092  0.252092  0.252092  0.252092  0.252092  0.252092  0.252092  0.252092  0.252092  0.252092  0.252092  0.252092  0.252092  0.252092  0.252092  0.252092  0.252092  0.252092\n",
       "4  0.252794  0.252794  0.252794  0.252794  0.252794  0.252794  0.252794  0.252794  0.252794  0.252794  0.252794  0.252794  0.252794  0.252794  0.252794  0.252794  0.252794  0.252794  0.252794  0.252794  0.252794  0.252794"
      ]
     },
     "execution_count": 10,
     "metadata": {},
     "output_type": "execute_result"
    }
   ],
   "source": [
    "#建構衰減矩陣\n",
    "decay = [np.geomspace(1/4, 1, num=500, dtype=float)]*len(Tickers)\n",
    "decay_frame = pd.DataFrame(decay).transpose()\n",
    "decay_frame.columns = df.columns\n",
    "decay_frame.head()"
   ]
  },
  {
   "cell_type": "code",
   "execution_count": 11,
   "metadata": {},
   "outputs": [],
   "source": [
    "#計算各股票型ETF每日的資產集中度\n",
    "date = []\n",
    "C = []\n",
    "for i in range(len(data_R_MVW.index) - 500):\n",
    "    c = []\n",
    "    decay_frame.index = data_R_MVW[i:500+i].index\n",
    "    date.append(data_R_MVW.index[500+i-1])\n",
    "    temp = (data_R_MVW[i:500+i].mul(decay_frame))\n",
    "    cov = np.array(temp.cov())\n",
    "    sklearn_pca = sklearnPCA(n_components=2)\n",
    "    pc = sklearn_pca.fit_transform(temp)\n",
    "    AR = sklearn_pca.explained_variance_ratio_\n",
    "    pcs = sklearn_pca.components_\n",
    "    pcv = sklearn_pca.singular_values_\n",
    "    \n",
    "    eigValue = np.abs(np.array(pcv))\n",
    "    eigVector = np.abs(np.array(pcs))\n",
    "    \n",
    "    AR1 = AR[0]\n",
    "    AR2 = AR[1]\n",
    "    \n",
    "    Es1 = np.sum(eigVector[0])\n",
    "    Es2 = np.sum(eigVector[1])\n",
    "    \n",
    "    for j in range(len(Tickers)):\n",
    "        c_temp = (AR1*(eigVector[0][j])/Es1+AR2*(eigVector[1][j])/Es2)/(AR1 + AR2)\n",
    "        r1 = (eigVector[0][j])/Es1\n",
    "        r2 = (eigVector[1][j])/Es2\n",
    "        c.append(c_temp)\n",
    "        \n",
    "    C.append(c)\n",
    "    \n",
    "Cen = pd.DataFrame(C)\n",
    "Cen.index = date\n",
    "Cen.index.name = \"Date\"\n",
    "Cen.columns = df.columns"
   ]
  },
  {
   "cell_type": "code",
   "execution_count": 12,
   "metadata": {},
   "outputs": [],
   "source": [
    "# 將資產集中度以過去3年平均與標準差標準化\n",
    "MA = (Cen.rolling(window=750).mean()).dropna()\n",
    "MD = (Cen.rolling(window=750).std()).dropna()\n",
    "Cen_nor = Cen.sub(MA)\n",
    "Cen_nor = Cen_nor.div(MD).dropna()"
   ]
  },
  {
   "cell_type": "code",
   "execution_count": 13,
   "metadata": {
    "scrolled": true
   },
   "outputs": [],
   "source": [
    "# 依標準化後的資產集中度，計算各股票型ETF每日的Expected Return\n",
    "Ers = []\n",
    "for j in Cen_nor.index:\n",
    "    Er = []\n",
    "    Cen_Array = Cen_nor.loc[j]\n",
    "    CH_Array = df_CH.loc[j]\n",
    "    \n",
    "    C_rank = np.array(Cen_Array.rank(axis = 0, ascending = False))\n",
    "    CH_rank = np.array(CH_Array.rank(axis = 0, ascending = False))\n",
    "    NUM = 5\n",
    "    for i in range(len(C_rank)):\n",
    "        if (C_rank[i] <= NUM and CH_rank[i] <= NUM):\n",
    "            Er.append(-0.05)\n",
    "        elif (C_rank[i] > NUM and CH_rank[i] > NUM):\n",
    "            Er.append(0)\n",
    "        elif (C_rank[i] <= NUM and CH_rank[i] > NUM):\n",
    "            Er.append(0.05)\n",
    "        elif (C_rank[i] > NUM and CH_rank[i] <= NUM):\n",
    "            Er.append(0)\n",
    "    Ers.append(Er)\n",
    "    \n",
    "Ers_df = pd.DataFrame(Ers, columns = Cen_nor.columns)\n",
    "Ers_df.index = Cen_nor.index"
   ]
  },
  {
   "cell_type": "code",
   "execution_count": 14,
   "metadata": {},
   "outputs": [],
   "source": [
    "#依每日的Expected Return，與過去2兩年Volatility，計算股票型ETF有最小Volatility的投資組合\n",
    "#這一步會跑比較久\n",
    "weights = []\n",
    "for i in Ers_df.index:\n",
    "    mean_returns = Ers_df.loc[i]\n",
    "    base = df.index.get_loc(i)\n",
    "    cov = df.pct_change()[base - 500:base].dropna().cov()\n",
    "    rf = 0.0\n",
    "    min_port_variance = min_variance(mean_returns, cov)\n",
    "    \n",
    "    weights.append([round(x,2) for x in min_port_variance['x']])\n",
    "\n",
    "W = pd.DataFrame(weights, columns = df.columns, index = Ers_df.index)"
   ]
  },
  {
   "cell_type": "code",
   "execution_count": 15,
   "metadata": {},
   "outputs": [],
   "source": [
    "#以過去60日的平均權重作為隔日權重\n",
    "W_mean = W.shift(1).dropna().rolling(60).mean().dropna()"
   ]
  },
  {
   "cell_type": "code",
   "execution_count": 16,
   "metadata": {},
   "outputs": [
    {
     "name": "stderr",
     "output_type": "stream",
     "text": [
      "C:\\ProgramData\\Anaconda3\\lib\\site-packages\\ipykernel_launcher.py:9: SettingWithCopyWarning: \n",
      "A value is trying to be set on a copy of a slice from a DataFrame\n",
      "\n",
      "See the caveats in the documentation: http://pandas.pydata.org/pandas-docs/stable/user_guide/indexing.html#returning-a-view-versus-a-copy\n",
      "  if __name__ == '__main__':\n",
      "C:\\ProgramData\\Anaconda3\\lib\\site-packages\\ipykernel_launcher.py:21: SettingWithCopyWarning: \n",
      "A value is trying to be set on a copy of a slice from a DataFrame\n",
      "\n",
      "See the caveats in the documentation: http://pandas.pydata.org/pandas-docs/stable/user_guide/indexing.html#returning-a-view-versus-a-copy\n",
      "C:\\ProgramData\\Anaconda3\\lib\\site-packages\\ipykernel_launcher.py:13: SettingWithCopyWarning: \n",
      "A value is trying to be set on a copy of a slice from a DataFrame\n",
      "\n",
      "See the caveats in the documentation: http://pandas.pydata.org/pandas-docs/stable/user_guide/indexing.html#returning-a-view-versus-a-copy\n",
      "  del sys.path[0]\n",
      "C:\\ProgramData\\Anaconda3\\lib\\site-packages\\ipykernel_launcher.py:17: SettingWithCopyWarning: \n",
      "A value is trying to be set on a copy of a slice from a DataFrame\n",
      "\n",
      "See the caveats in the documentation: http://pandas.pydata.org/pandas-docs/stable/user_guide/indexing.html#returning-a-view-versus-a-copy\n"
     ]
    }
   ],
   "source": [
    "#依VIX指標計算股票型ETF、債券型ETF每日的權重\n",
    "W_mean_b = W_mean.copy()\n",
    "W_mean_b[\"VIQ90\"] = VIQ90\n",
    "W_mean_b[\"VIQ10\"] = VIQ10\n",
    "W_mean_b[\"VIW90\"] = VIW90\n",
    "W_mean_b[\"TLT\"] = 0\n",
    "for i in range(1, len(W_mean_b)):\n",
    "    temp =  W_mean_b.iloc[i]\n",
    "    temp[\"TLT\"] = W_mean_b.iloc[i - 1][\"TLT\"]\n",
    "    W_mean_b.iloc[i] = temp\n",
    "    if W_mean_b.iloc[i][\"VIQ90\"] == True:\n",
    "        temp =  W_mean_b.iloc[i]\n",
    "        temp[\"TLT\"] = 1\n",
    "        W_mean_b.iloc[i] = temp\n",
    "    if W_mean_b.iloc[i][\"VIW90\"] == True:\n",
    "        temp =  W_mean_b.iloc[i]\n",
    "        temp[\"TLT\"] = 0\n",
    "        W_mean_b.iloc[i] = temp\n",
    "    if W_mean_b.iloc[i][\"VIQ10\"] == True:\n",
    "        temp =  W_mean_b.iloc[i]\n",
    "        temp[\"TLT\"] = (W_mean_b.iloc[i - 1][\"TLT\"] + 0.01)\n",
    "        W_mean_b.iloc[i] = temp\n",
    "        \n",
    "W_mean_b = W_mean_b.drop([\"VIQ90\",\"VIQ10\",\"VIW90\"], axis = 1)\n",
    "portfolio_weight = W_mean_b[W_mean.columns].mul(1 - W_mean_b[\"TLT\"], axis = 0)\n",
    "portfolio_weight[\"TLT\"] =W_mean_b[\"TLT\"]"
   ]
  },
  {
   "cell_type": "code",
   "execution_count": 17,
   "metadata": {},
   "outputs": [],
   "source": [
    "#計算投資組合日報酬\n",
    "df_temp = df.copy()\n",
    "df_temp[\"TLT\"] = TLT[\"Adj Close\"]\n",
    "portfolio_return = portfolio_weight.mul(df_temp.pct_change()).dropna().sum(axis = 1)"
   ]
  },
  {
   "cell_type": "code",
   "execution_count": 18,
   "metadata": {
    "scrolled": true
   },
   "outputs": [
    {
     "ename": "NameError",
     "evalue": "name 'S_r' is not defined",
     "output_type": "error",
     "traceback": [
      "\u001b[1;31m---------------------------------------------------------------------------\u001b[0m",
      "\u001b[1;31mNameError\u001b[0m                                 Traceback (most recent call last)",
      "\u001b[1;32m<ipython-input-18-a388adbf595b>\u001b[0m in \u001b[0;36m<module>\u001b[1;34m\u001b[0m\n\u001b[0;32m      1\u001b[0m \u001b[1;31m#下載Benchmark資料\u001b[0m\u001b[1;33m\u001b[0m\u001b[1;33m\u001b[0m\u001b[1;33m\u001b[0m\u001b[0m\n\u001b[1;32m----> 2\u001b[1;33m \u001b[0mSPY\u001b[0m \u001b[1;33m=\u001b[0m \u001b[0mstock_adjclose\u001b[0m\u001b[1;33m(\u001b[0m\u001b[1;34m\"SPY\"\u001b[0m\u001b[1;33m,\u001b[0m \u001b[0mS_r\u001b[0m\u001b[1;33m.\u001b[0m\u001b[0mindex\u001b[0m\u001b[1;33m[\u001b[0m\u001b[1;36m0\u001b[0m\u001b[1;33m]\u001b[0m\u001b[1;33m.\u001b[0m\u001b[0myear\u001b[0m\u001b[1;33m,\u001b[0m \u001b[0mS_r\u001b[0m\u001b[1;33m.\u001b[0m\u001b[0mindex\u001b[0m\u001b[1;33m[\u001b[0m\u001b[1;36m0\u001b[0m\u001b[1;33m]\u001b[0m\u001b[1;33m.\u001b[0m\u001b[0mmonth\u001b[0m\u001b[1;33m,\u001b[0m \u001b[0mS_r\u001b[0m\u001b[1;33m.\u001b[0m\u001b[0mindex\u001b[0m\u001b[1;33m[\u001b[0m\u001b[1;36m0\u001b[0m\u001b[1;33m]\u001b[0m\u001b[1;33m.\u001b[0m\u001b[0mday\u001b[0m\u001b[1;33m,\u001b[0m \u001b[1;33m(\u001b[0m\u001b[0mS_r\u001b[0m\u001b[1;33m.\u001b[0m\u001b[0mindex\u001b[0m\u001b[1;33m[\u001b[0m\u001b[1;33m-\u001b[0m\u001b[1;36m1\u001b[0m\u001b[1;33m]\u001b[0m \u001b[1;33m+\u001b[0m \u001b[0mdatetime\u001b[0m\u001b[1;33m.\u001b[0m\u001b[0mtimedelta\u001b[0m\u001b[1;33m(\u001b[0m\u001b[0mdays\u001b[0m \u001b[1;33m=\u001b[0m \u001b[1;36m1\u001b[0m\u001b[1;33m)\u001b[0m\u001b[1;33m)\u001b[0m\u001b[1;33m.\u001b[0m\u001b[0myear\u001b[0m\u001b[1;33m,\u001b[0m \u001b[1;33m(\u001b[0m\u001b[0mS_r\u001b[0m\u001b[1;33m.\u001b[0m\u001b[0mindex\u001b[0m\u001b[1;33m[\u001b[0m\u001b[1;33m-\u001b[0m\u001b[1;36m1\u001b[0m\u001b[1;33m]\u001b[0m \u001b[1;33m+\u001b[0m \u001b[0mdatetime\u001b[0m\u001b[1;33m.\u001b[0m\u001b[0mtimedelta\u001b[0m\u001b[1;33m(\u001b[0m\u001b[0mdays\u001b[0m \u001b[1;33m=\u001b[0m \u001b[1;36m1\u001b[0m\u001b[1;33m)\u001b[0m\u001b[1;33m)\u001b[0m\u001b[1;33m.\u001b[0m\u001b[0mmonth\u001b[0m\u001b[1;33m,\u001b[0m \u001b[1;33m(\u001b[0m\u001b[0mS_r\u001b[0m\u001b[1;33m.\u001b[0m\u001b[0mindex\u001b[0m\u001b[1;33m[\u001b[0m\u001b[1;33m-\u001b[0m\u001b[1;36m1\u001b[0m\u001b[1;33m]\u001b[0m \u001b[1;33m+\u001b[0m \u001b[0mdatetime\u001b[0m\u001b[1;33m.\u001b[0m\u001b[0mtimedelta\u001b[0m\u001b[1;33m(\u001b[0m\u001b[0mdays\u001b[0m \u001b[1;33m=\u001b[0m \u001b[1;36m1\u001b[0m\u001b[1;33m)\u001b[0m\u001b[1;33m)\u001b[0m\u001b[1;33m.\u001b[0m\u001b[0mday\u001b[0m\u001b[1;33m)\u001b[0m\u001b[1;33m[\u001b[0m\u001b[1;34m\"Adj Close\"\u001b[0m\u001b[1;33m]\u001b[0m\u001b[1;33m\u001b[0m\u001b[1;33m\u001b[0m\u001b[0m\n\u001b[0m\u001b[0;32m      3\u001b[0m \u001b[0mSPY_r\u001b[0m \u001b[1;33m=\u001b[0m \u001b[1;33m(\u001b[0m\u001b[0mSPY\u001b[0m\u001b[1;33m.\u001b[0m\u001b[0mpct_change\u001b[0m\u001b[1;33m(\u001b[0m\u001b[1;33m)\u001b[0m\u001b[1;33m.\u001b[0m\u001b[0mdropna\u001b[0m\u001b[1;33m(\u001b[0m\u001b[1;33m)\u001b[0m\u001b[1;33m)\u001b[0m\u001b[1;33m\u001b[0m\u001b[1;33m\u001b[0m\u001b[0m\n",
      "\u001b[1;31mNameError\u001b[0m: name 'S_r' is not defined"
     ]
    }
   ],
   "source": [
    "#下載Benchmark資料\n",
    "SPY = stock_adjclose(\"SPY\", S_r.index[0].year, S_r.index[0].month, S_r.index[0].day, (S_r.index[-1] + datetime.timedelta(days = 1)).year, (S_r.index[-1] + datetime.timedelta(days = 1)).month, (S_r.index[-1] + datetime.timedelta(days = 1)).day)[\"Adj Close\"]\n",
    "SPY_r = (SPY.pct_change().dropna())"
   ]
  },
  {
   "cell_type": "code",
   "execution_count": null,
   "metadata": {},
   "outputs": [],
   "source": [
    "#繪製績效圖\n",
    "F = pd.concat([(portfolio_return + 1).cumprod(), (SPY_r + 1).cumprod()], axis=1).dropna()\n",
    "F.columns = [\"Strategy\", \"Benchmark\"]\n",
    "F = F.reset_index()\n",
    "F.plot(x = \"Date\" ,y = [\"Strategy\", \"Benchmark\"])"
   ]
  },
  {
   "cell_type": "code",
   "execution_count": null,
   "metadata": {},
   "outputs": [],
   "source": [
    "#計算報酬率、標準差、夏普比率、最大回檔\n",
    "annualized_return = (F[\"Strategy\"].iloc[-1])**(252/len(F[\"Strategy\"])) - 1\n",
    "annualized_std = (portfolio_return).std()* np.sqrt(252)\n",
    "sharpe_ratio = (annualized_return - rf) / annualized_std\n",
    "\n",
    "Benchmark_return = (F[\"Benchmark\"].iloc[-1])**(252/len(F[\"Benchmark\"])) - 1\n",
    "Benchmark_std = (SPY_r).std()* np.sqrt(252)\n",
    "Benchmark_sharpe_ratio = (Benchmark_return - rf) / Benchmark_std\n",
    "MDD = ((F[\"Strategy\"].cummax() - F[\"Strategy\"])/F[\"Strategy\"].cummax()).max()\n",
    "Benchmark_MDD = ((F[\"Benchmark\"].cummax() - F[\"Benchmark\"])/F[\"Benchmark\"].cummax()).max()\n"
   ]
  },
  {
   "cell_type": "code",
   "execution_count": null,
   "metadata": {
    "scrolled": true
   },
   "outputs": [],
   "source": [
    "print(\"策略績效\")\n",
    "print(\"年化報酬率:\", annualized_return)\n",
    "print(\"年化標準差:\", annualized_std)\n",
    "print(\"夏普比率:\", sharpe_ratio)\n",
    "print(\"最大回檔:\", MDD)\n",
    "print(\"--------------------------------\")\n",
    "print(\"Benchmark績效\")\n",
    "print(\"年化報酬率:\", Benchmark_return)\n",
    "print(\"年化標準差:\", Benchmark_std)\n",
    "print(\"夏普比率:\", Benchmark_sharpe_ratio)\n",
    "print(\"最大回檔:\", Benchmark_MDD)\n",
    "print(\"--------------------------------\")\n"
   ]
  },
  {
   "cell_type": "code",
   "execution_count": null,
   "metadata": {
    "scrolled": true
   },
   "outputs": [],
   "source": [
    "# Volatility Control\n",
    "Targets = [0.03, 0.05, 0.07, 1]\n",
    "Price = df_temp.pct_change().dropna().loc[portfolio_weight.index]\n",
    "Price2 = df_temp.pct_change().dropna().loc[portfolio_weight.index]\n",
    "Price2[\"Cash\"] = 0\n",
    "return_list = []\n",
    "for j in range(len(Targets)):\n",
    "    weights = portfolio_weight.copy()\n",
    "    weights[\"Cash\"] = 0\n",
    "    for i in range(1, len(weights)):\n",
    "        temp = weights.iloc[i]\n",
    "        temp[\"Cash\"] = weights.iloc[i - 1][\"Cash\"]\n",
    "        weights.iloc[i] = temp\n",
    "        if i >= 20:\n",
    "            if i%5 == 0:\n",
    "                cov = Price.iloc[i-20:i].cov()\n",
    "                portfolio_std = np.sqrt(np.dot(np.array(portfolio_weight.loc[Price.index[i]]).T, np.dot(cov, np.array(portfolio_weight.loc[Price.index[i]])))) * np.sqrt(252)\n",
    "                if (portfolio_std > Targets[j]):\n",
    "                    temp = weights.iloc[i]\n",
    "                    temp[\"Cash\"] = 1 - Targets[j]/portfolio_std\n",
    "                    weights.iloc[i] = temp\n",
    "                else:\n",
    "                    temp = weights.iloc[i]\n",
    "                    temp[\"Cash\"] = 0\n",
    "                    weights.iloc[i] = temp\n",
    "    weights_temp = weights[Price.columns].mul(1 - weights[\"Cash\"], axis = 0)\n",
    "    weights_temp[\"Cash\"] =weights[\"Cash\"]\n",
    "    return_list.append(weights_temp.mul(Price2).dropna().sum(axis = 1))"
   ]
  },
  {
   "cell_type": "code",
   "execution_count": null,
   "metadata": {},
   "outputs": [],
   "source": [
    "#繪製Volatility Control績效圖\n",
    "F2 = [(return_list[0] + 1).cumprod(), (return_list[1] + 1).cumprod(), (return_list[2] + 1).cumprod(),  (return_list[3] + 1).cumprod(), (SPY_r + 1).cumprod()]\n",
    "FP = pd.concat([F2[0], F2[1], F2[2], F2[3], F2[4]], axis=1)\n",
    "FP.columns = [\"3% control\", \"5% control\", \"7% control\", \"no control\", \"Benchmark\"]\n",
    "FP = FP.reset_index()\n",
    "FP.plot(x = \"Date\" ,y =   [\"3% control\", \"5% control\", \"7% control\", \"no control\", \"Benchmark\"])"
   ]
  },
  {
   "cell_type": "code",
   "execution_count": null,
   "metadata": {},
   "outputs": [],
   "source": [
    "#計算報酬率、標準差、最大回檔\n",
    "print(\"MDD:\")\n",
    "for f in F2[:-1]:\n",
    "    print(((f.cummax() - f)/f.cummax()).max())\n",
    "print(\"std:\")\n",
    "for r in return_list:\n",
    "    print(r.std()*np.sqrt(252))\n",
    "print(\"return:\")\n",
    "for f in F2[:-1]:\n",
    "    print((f.iloc[-1])**(252/len(f)) - 1)"
   ]
  }
 ],
 "metadata": {
  "kernelspec": {
   "display_name": "Python 3",
   "language": "python",
   "name": "python3"
  },
  "language_info": {
   "codemirror_mode": {
    "name": "ipython",
    "version": 3
   },
   "file_extension": ".py",
   "mimetype": "text/x-python",
   "name": "python",
   "nbconvert_exporter": "python",
   "pygments_lexer": "ipython3",
   "version": "3.7.6"
  }
 },
 "nbformat": 4,
 "nbformat_minor": 4
}
